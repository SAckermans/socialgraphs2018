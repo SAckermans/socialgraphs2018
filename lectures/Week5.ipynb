{
 "cells": [
  {
   "cell_type": "markdown",
   "metadata": {},
   "source": [
    "# Overview\n",
    "\n",
    "This week we'll talk about advanced network measures (beyond the degree distribution), and communities. We will use these tools to make sense of the network of the house of representatives on Wikipedia. \n",
    "This is the outline for today:\n",
    "\n",
    "\n",
    "* Visualization and qualitative analysis of the house of representatives network \n",
    "* Properties of the network structure, including how parties and states shape the network\n",
    "\n",
    "> _Reading_: This week, the reading is mostly for reference. It's for you to have a place to go, if you want more detailed information about the topics that I cover in the video lectures. Thus, I recommend you check out **Chapter 9** of the network science book. In particular, we'll delve into section 9.4 in the exercises below. We will also talk a little bit about degree correlations - you can read about those in Chapter 7\\.\n",
    "> \n",
    "\n"
   ]
  },
  {
   "cell_type": "markdown",
   "metadata": {},
   "source": [
    "# A) Visualize the house of representatives network"
   ]
  },
  {
   "cell_type": "markdown",
   "metadata": {},
   "source": [
    "\n",
    "> _Exercise_ 1: Pick one of the houses of representatives (113th, 114th, 115th), and build the network. \n",
    "\n",
    "> * Use NetworkX [`DiGraph`](https://networkx.github.io/documentation/development/reference/classes.digraph.html) to store the network. Store also the properties of the nodes (state and party of each politician).\n"
   ]
  },
  {
   "cell_type": "markdown",
   "metadata": {},
   "source": [
    "To get a first idea about how the network looks like, we start visualizing it.\n",
    "\n",
    "> _Exercise_ 2: Visualize the network of the house of representatives. \n",
    "> * Try to visualize the network, using Networkx [draw_spring](https://networkx.github.io/documentation/networkx-1.10/reference/drawing.html). Do you think it looks nice? \n",
    "> * To achieve a better layout, you can use the [force atlas 2 algorithm](https://github.com/bhargavchippada/forceatlas2) to determine the positions of the nodes (see what the result looks like below). You can install the force atlas 2 package typing \"pip install fa2\" in the terminal. \n",
    ">   * (**Hint**: if you install force atlas and Python can not find the package, try installing using the anaconda pip directly, e.g. on my mac I would use `~/anaconda2/bin/pip install fa2`)\n",
    "> * Visualize the network using the [Networkx draw function](https://networkx.github.io/documentation/stable/reference/generated/networkx.drawing.nx_pylab.draw.html#networkx.drawing.nx_pylab.draw), and nodes coordinates from the force atlas algorithm. Plot nodes in different colors, according to their party. You can also set the nodes' size proportional to their degree.\n",
    "> * Play with the force atlas algorithm parameters to obtain a visualization you like. It may look similar to the one below (but not necessarily). Hint: Using the undirected version of the graph you may get better visualizations. \n",
    "> * Describe the structure you observe. Can you identify nodes with a privileged position in the network? Do you observe chains of connected nodes?\n",
    "\n",
    "<img src=\"https://raw.githubusercontent.com/suneman/socialgraphs2018/master/files/network_lesson5.png\" alt=\"Drawing\" style=\"width: 400px;\"/>"
   ]
  },
  {
   "cell_type": "markdown",
   "metadata": {},
   "source": [
    "> * Compare the network you have produced with the one below, showing the link structures between political blogs (see the full article [here](http://science.sciencemag.org/content/323/5915/721)). How do they differ?\n",
    "\n",
    "<img src=\"https://raw.githubusercontent.com/suneman/socialgraphs2018/master/files/blogosphere.jpg\" alt=\"Drawing\" style=\"width: 400px;\"/>"
   ]
  },
  {
   "cell_type": "markdown",
   "metadata": {},
   "source": [
    "We continue with a qualitative inspection of the Wikipedia pages, that will help us to intepret our results in the following exercises.\n",
    "\n",
    "> _Exercise 3_: Investigate the reasons for links between politicians to exist on Wikipedia. \n",
    "> * Consider the node with highest out-degree in the network. Open the corresponding Wikipedia page.\n",
    "> * Consider the set of neighbours of the node found above. Look for them in the page. \n",
    "> * What is the relation between the politician you identified and his/her network neighbours? (e.g. they work together, they come from the same town, they are opponents...)\n",
    "> * Repeat the exercise for the second largest out-degree node. Write down possible reasons why links exist between Wikipedia pages of politicians. Do all the links carry the same meaning?\n",
    "> * Based on the observations above, can you partly explain the structure observed in Exercise 2?"
   ]
  },
  {
   "cell_type": "markdown",
   "metadata": {},
   "source": [
    "# B) The structure of the house of representatives network"
   ]
  },
  {
   "cell_type": "markdown",
   "metadata": {},
   "source": [
    "> **_Video lecture_**: Network measures. There's an updated video below, and if you can't get enough, you can watch the original version from 2015 [here](https://youtu.be/0uAYpOqVHCU/).\n"
   ]
  },
  {
   "cell_type": "code",
   "execution_count": 6,
   "metadata": {
    "scrolled": true
   },
   "outputs": [
    {
     "data": {
      "image/jpeg": "[encoded data removed]",
      "text/html": [
       "\n",
       "        <iframe\n",
       "            width=\"800\"\n",
       "            height=\"450\"\n",
       "            src=\"https://www.youtube.com/embed/IOWXZFOyk9Y\"\n",
       "            frameborder=\"0\"\n",
       "            allowfullscreen\n",
       "        ></iframe>\n",
       "        "
      ],
      "text/plain": [
       "<IPython.lib.display.YouTubeVideo at 0x7fa56e003150>"
      ]
     },
     "execution_count": 6,
     "metadata": {},
     "output_type": "execute_result"
    }
   ],
   "source": [
    "from IPython.display import YouTubeVideo\n",
    "YouTubeVideo(\"IOWXZFOyk9Y\",width=800, height=450)"
   ]
  },
  {
   "cell_type": "markdown",
   "metadata": {
    "collapsed": true
   },
   "source": [
    "\n",
    "\n",
    "We begin with a preliminary analysis of the network.\n",
    "\n",
    "> _Exercise 4_: Begin to analyze the network of the house of representatives.\n",
    "\n",
    "> * Why do you think I want you guys to use a directed graph? Could have we used an undirected graph instead?\n",
    "> * What is the total number of nodes in the network? What is the total number of links? The density of the network?\n",
    "> * What are the average, median, mode, minimum and maximum value of the in-degree? And of the out-degree? How do you intepret the results?\n",
    "> * List the top 5 politicians by in-degree and out-degree. What is their party and state? Do these politicians play a particular role in the house (see [here](https://en.wikipedia.org/wiki/List_of_members_of_the_United_States_House_of_Representatives_in_the_115th_Congress_by_seniority))?\n",
    "> * Plot the distribution of in-degrees and out-degrees, binned using `numpy.histogram`. What is the most common in-degree? The most common out-degree?\n",
    "> * Plot the probability distribution of in-degrees and out-degrees one more time, this time plotted in loglog scale.\n",
    "> * Describe the distributions (as you would in a well written figure caption). Do they look Poissonian? Power-law? Something in between? \n",
    "> * Plot a scatter plot of the the in- versus out- degree for all politicians. Comment on the relation between the two.\n",
    "> * Plot a heatmap [(Hint here)](int https://stackoverflow.com/questions/2369492/generate-a-heatmap-in-matplotlib-using-a-scatter-data-set) of the the in- versus out- degree for all politicians. What is the advantage of using a heatmap?"
   ]
  },
  {
   "cell_type": "markdown",
   "metadata": {
    "collapsed": true
   },
   "source": [
    "> _Exercise 5_: Going in depth with the structure of house of representatives network.\n",
    "> \n",
    "> Above, we found the most connected politicians (using degree centrality). Now let's dig in and try to understand more about the network using more advanced features. If your network has more than one component, just work on the _giant connected component_ (GCC) in the exercises below (in a directed graph use the [_weakly_ connected component](https://networkx.github.io/documentation/networkx-1.9.1/reference/algorithms.component.html)).\n",
    "> \n",
    "> * Not all of the measures we'll be considering below are defined for directed graphs, thus begin by creating an [undirected version](https://networkx.github.io/documentation/networkx-1.9.1/reference/generated/networkx.DiGraph.to_undirected.html) of the graph, that we can use whenever needed. Only use the undirected graph when explicitly stated in the exercise.\n",
    "> * Find the 5 most central politicians according to [betweenness centrality](https://networkx.github.io/documentation/networkx-1.9.1/reference/generated/networkx.algorithms.centrality.betweenness_centrality.html). What role do you imagine politicians with high wikipedia graph betweenness centrality play?\n",
    "> * Find the 5 most central politicians according to [eigenvector centrality](https://networkx.github.io/documentation/networkx-1.9.1/reference/generated/networkx.algorithms.centrality.eigenvector_centrality.html). Calculate centrality corresponding to both in- and out-edges (see NetworkX documentation for details). \n",
    "> * Plot the betweenness centrality of nodes vs their degree centrality. Is there a correlation between the two? Did you expect that? Why?\n",
    "> * Repeat the two points above using eigenvector centrality instead. Do you observe any difference? Why?\n",
    "> * Is the _undirected version_ of the graph [assortative with respect do degree](https://networkx.github.io/documentation/networkx-1.9.1/reference/generated/networkx.algorithms.assortativity.degree_assortativity_coefficient.html#networkx.algorithms.assortativity.degree_assortativity_coefficient)? (e.g. do high-degree politicians tend to link to other high-degree politicians, and low-degree politicians to other low-degree politicians?). Provide an interpretation of your answer. \n",
    "> * What is the average shortest path length? Is it similar to the one of a random graph with the same number of nodes and p?"
   ]
  },
  {
   "cell_type": "markdown",
   "metadata": {},
   "source": [
    "> Parties and states of the members of the house plays a large role. Now, let us explore if and how they shape the network. \n",
    "\n",
    "> _Exercise 6_: Parties and nodes centrality.\n",
    "> * Compute the average node centrality for Democratic and Republican members of the house (choose your favourite centrality measure).\n",
    "> * Create a new graph, with the same nodes and edges, but where the association between nodes and parties is shuffled. Compute the average centrality of Republicans and Democrats nodes for this *randomized* graph. \n",
    "> * Repeat the point above 100 times (at least) and plot two histograms with the values of centrality obtained for Republicans and Democrats.\n",
    "> * Compare the value you have obtained in the real graph, with the randomized cases. Are members of one of the two parties more central in the network (on average)?\n",
    "> * Think about your results, what could be possible explanations for what you observe?\n",
    "\n",
    "> _Exercise 7_: Assortativity with respect to parties and states.\n",
    "> * Consider the undirected version of the graph. For each node, compute the fraction of edges that connect to a node of his/her same party. Find the average value across all nodes. \n",
    "> * Create a new graph, with the same nodes and edges, but where the association between nodes and parties is shuffled. Compute the measure above for this *randomized* graph. \n",
    "> * Repeat the point above 100 times (at least). Plot the distribution of the values obtained and compare it with the value you have found for the real graph. Do you find that the chance to connect to a member of the same party is higher than it would be by random chance?\n",
    "> * Compute the [assortativity coefficient with respect to the party](https://networkx.github.io/documentation/networkx-1.9.1/reference/generated/networkx.algorithms.assortativity.attribute_assortativity_coefficient.html#networkx.algorithms.assortativity.attribute_assortativity_coefficient). How do you interpret the value you obtain? (Hint: See [this paper, eq (2)](https://arxiv.org/pdf/cond-mat/0209450.pdf)).\n",
    "> * Repeat the exercise, but considering states instead of parties.\n",
    "> * How do you interpret these results in light of what you have observed in Exercise 3?"
   ]
  },
  {
   "cell_type": "code",
   "execution_count": null,
   "metadata": {
    "collapsed": true
   },
   "outputs": [],
   "source": []
  }
 ],
 "metadata": {
  "kernelspec": {
   "display_name": "Python 2",
   "language": "python",
   "name": "python2"
  },
  "language_info": {
   "codemirror_mode": {
    "name": "ipython",
    "version": 2
   },
   "file_extension": ".py",
   "mimetype": "text/x-python",
   "name": "python",
   "nbconvert_exporter": "python",
   "pygments_lexer": "ipython2",
   "version": "2.7.13"
  }
 },
 "nbformat": 4,
 "nbformat_minor": 2
}
